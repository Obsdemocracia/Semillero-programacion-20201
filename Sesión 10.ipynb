{
 "cells": [
  {
   "cell_type": "markdown",
   "metadata": {},
   "source": [
    "## Semillero de Programación en Ciencias Sociales (Sesión 10)\n",
    "### Felipe Botero, Laura Cely, Wilson Forero, Juan Carlos Rodríguez-Raga"
   ]
  },
  {
   "cell_type": "markdown",
   "metadata": {},
   "source": [
    "#### El objetivo de esta clase es aprender a extraer datos de Twitter por medio de su API gratuita "
   ]
  },
  {
   "cell_type": "code",
   "execution_count": 1,
   "metadata": {},
   "outputs": [],
   "source": [
    "#!pip install tweepy"
   ]
  },
  {
   "cell_type": "markdown",
   "metadata": {},
   "source": [
    "### Paquetes que vamos a utilizar:\n",
    "\n",
    "**[1.Tweepy](http://tweepy.readthedocs.org):** Es un wrapper de la API de Twitter para Python. Facilita el acceso a los datos de esta plataforma."
   ]
  },
  {
   "cell_type": "code",
   "execution_count": 3,
   "metadata": {},
   "outputs": [],
   "source": [
    "import tweepy"
   ]
  },
  {
   "cell_type": "markdown",
   "metadata": {},
   "source": [
    "### Conectarse con la API de Twitter para extraer datos desde Python\n",
    "#### 1. Vamos a guardar las credenciales de nuestra APP como variables tipo string "
   ]
  },
  {
   "cell_type": "code",
   "execution_count": 1,
   "metadata": {},
   "outputs": [],
   "source": [
    "####input your credentials here\n",
    "APP_KEY3 = '8Q1yuwTUefURfBCrz5FqdgUzA'\n",
    "APP_SECRET3 = 'JT8vmohxcbuDp7SzC6Ie86jPKoozlZ7j49gK8ScpFAfNGxcG8A'\n",
    "OAUTH_TOKEN3 = '119386763-XmvKPX5t59nHsRcZloLzb30RgUPF33kt9wkrSC1V'\n",
    "OAUTH_TOKEN_SECRET3 ='AA9jksEfWB0K3vXxUN5beYjGcPhJphjKuOGIbeClWqFkw'"
   ]
  },
  {
   "cell_type": "markdown",
   "metadata": {},
   "source": [
    "#### 2. Vamos a conectarnos con la API de Twitter con las credenciales de nuestra APP\n",
    "La API impone límites a cuántos datos se les puede pedir por cada 15 minutos. Por eso, ajustamos los parámetros para que la API espere unos minutos si nos pasamos de esos límites. Más información sobre los límites [aquí](https://developer.twitter.com/en/docs/basics/rate-limits)"
   ]
  },
  {
   "cell_type": "code",
   "execution_count": 4,
   "metadata": {},
   "outputs": [],
   "source": [
    "auth = tweepy.OAuthHandler(APP_KEY3, APP_SECRET3)\n",
    "auth.set_access_token(OAUTH_TOKEN3, OAUTH_TOKEN_SECRET3)\n",
    "\n",
    "api3 = tweepy.API(auth,wait_on_rate_limit=True,wait_on_rate_limit_notify=True)"
   ]
  },
  {
   "cell_type": "markdown",
   "metadata": {},
   "source": [
    "### La API Standard Search:\n",
    "\n",
    "Con una APP gratuita podemos conectarnos a dos APIS: Standard Search y Standard Stream. La pimera sirve para descargar datos \"históricos\" (Hasta una semana antes del momento en que extraemos los datos). La segunda permite extraer datos en tiempo real. Hoy vamos a trabajar con la [Api Standard Search](https://developer.twitter.com/en/docs/tweets/search/api-reference/get-search-tweets) para extraer tuits que usan alguna palabra clave o que han sido producidos por algún usuario de interés.\n",
    "\n",
    "**IMPORTANTE:** Twitter no entrega todos los tuits que contienen una palabra clave y no da información sobre cómo selecciona cuáles otorgar. Su objetivo,dicen, no es dar información exhaustiva, pero sí relevante, por lo que seleccionan tuits que fueron populares con un número \"significativo\" de los tuits producidos así no hayan sido populares.\n",
    "\n",
    "### Pasos para descargar información de una palabra clave\n",
    "#### Casos de uso: ¿Cómo se habla de un tema o un usuario?\n",
    "\n",
    "Este proceso emula la búsqueda en Twitter y realiza búsquedas automatizadas.\n",
    "\n",
    "1. Crear un \"query\" con las palabras claves que vamos a buscar. Las mejores prácticas para construir queries las encuentran [acá](https://developer.twitter.com/en/docs/tweets/search/guides/standard-operators).\n",
    "\n",
    "2. Definir si queremos fijar algún otro parámetro como lenguaje, geolocalización, fecha, etc.\n",
    "\n",
    "3. Fijar el modo de Tweet en \"extendend\"\n",
    "\n",
    "4. Fijar el parámetro Count (cuántos resultados por página intenta recibir)\n",
    "\n",
    "5. La búsqueda con estos parámetros se anida dentro de un objeto tipo Cursor que pagina los rusultados  \n",
    "\n",
    "6. Fijar el parámetro items de cuántas páginas consultar.\n",
    "\n",
    "Los Tuits se almacenan en una lista a medida que se van extrayendo."
   ]
  },
  {
   "cell_type": "code",
   "execution_count": 9,
   "metadata": {},
   "outputs": [],
   "source": [
    "tweets=[]\n",
    "for tweet in tweepy.Cursor(api3.search,q=\"Epa Colombia OR EpaColombia\",count=100,\n",
    "                           lang=\"es\",tweet_mode='extended',since=\"2021-09-05\").items(1000):\n",
    "    \n",
    "    tweets.append(tweet)"
   ]
  },
  {
   "cell_type": "code",
   "execution_count": 18,
   "metadata": {},
   "outputs": [
    {
     "data": {
      "text/plain": [
       "1000"
      ]
     },
     "execution_count": 18,
     "metadata": {},
     "output_type": "execute_result"
    }
   ],
   "source": [
    "len(tweets)"
   ]
  },
  {
   "cell_type": "markdown",
   "metadata": {},
   "source": [
    "Cada tuit tiene un atributo ._json que contiene la información del tuit en formato [json](https://es.wikipedia.org/wiki/JSON). Este formato funciona como un diccionario de Python."
   ]
  },
  {
   "cell_type": "code",
   "execution_count": 19,
   "metadata": {},
   "outputs": [],
   "source": [
    "tweets_json=[]\n",
    "for i in range(0,len(tweets)):\n",
    "    tweets_json.append(tweets[i]._json)"
   ]
  },
  {
   "cell_type": "code",
   "execution_count": 20,
   "metadata": {},
   "outputs": [],
   "source": [
    "tweets_json2=[tweets[i]._json for i in range(0,len(tweets))]"
   ]
  },
  {
   "cell_type": "code",
   "execution_count": 21,
   "metadata": {},
   "outputs": [
    {
     "data": {
      "text/plain": [
       "1000"
      ]
     },
     "execution_count": 21,
     "metadata": {},
     "output_type": "execute_result"
    }
   ],
   "source": [
    "len(tweets_json)"
   ]
  },
  {
   "cell_type": "code",
   "execution_count": 22,
   "metadata": {},
   "outputs": [
    {
     "data": {
      "text/plain": [
       "dict_keys(['created_at', 'id', 'id_str', 'full_text', 'truncated', 'display_text_range', 'entities', 'metadata', 'source', 'in_reply_to_status_id', 'in_reply_to_status_id_str', 'in_reply_to_user_id', 'in_reply_to_user_id_str', 'in_reply_to_screen_name', 'user', 'geo', 'coordinates', 'place', 'contributors', 'retweeted_status', 'is_quote_status', 'retweet_count', 'favorite_count', 'favorited', 'retweeted', 'lang'])"
      ]
     },
     "execution_count": 22,
     "metadata": {},
     "output_type": "execute_result"
    }
   ],
   "source": [
    "tweets_json[1].keys()\n"
   ]
  },
  {
   "cell_type": "code",
   "execution_count": 23,
   "metadata": {},
   "outputs": [
    {
     "data": {
      "text/plain": [
       "'Mon Sep 06 17:02:36 +0000 2021'"
      ]
     },
     "execution_count": 23,
     "metadata": {},
     "output_type": "execute_result"
    }
   ],
   "source": [
    "tweets_json[1][\"created_at\"]"
   ]
  },
  {
   "cell_type": "code",
   "execution_count": 24,
   "metadata": {},
   "outputs": [
    {
     "data": {
      "text/plain": [
       "{'created_at': 'Mon Sep 06 16:58:46 +0000 2021',\n",
       " 'id': 1434924043233333259,\n",
       " 'id_str': '1434924043233333259',\n",
       " 'full_text': '.@GustavoBolivar, en vez de preocuparse por cumplir con sus compromisos tributarios y personales, prefiere hacer fake porque una Colombiana promedio se entrevistó con el expresidente @AlvaroUribeVel.',\n",
       " 'truncated': False,\n",
       " 'display_text_range': [0, 199],\n",
       " 'entities': {'hashtags': [],\n",
       "  'symbols': [],\n",
       "  'user_mentions': [{'screen_name': 'GustavoBolivar',\n",
       "    'name': 'Gustavo Bolívar',\n",
       "    'id': 50981729,\n",
       "    'id_str': '50981729',\n",
       "    'indices': [1, 16]},\n",
       "   {'screen_name': 'AlvaroUribeVel',\n",
       "    'name': 'Álvaro Uribe Vélez',\n",
       "    'id': 61097151,\n",
       "    'id_str': '61097151',\n",
       "    'indices': [183, 198]}],\n",
       "  'urls': []},\n",
       " 'metadata': {'iso_language_code': 'es', 'result_type': 'recent'},\n",
       " 'source': '<a href=\"http://twitter.com/download/android\" rel=\"nofollow\">Twitter for Android</a>',\n",
       " 'in_reply_to_status_id': None,\n",
       " 'in_reply_to_status_id_str': None,\n",
       " 'in_reply_to_user_id': None,\n",
       " 'in_reply_to_user_id_str': None,\n",
       " 'in_reply_to_screen_name': None,\n",
       " 'user': {'id': 1232992266379235329,\n",
       "  'id_str': '1232992266379235329',\n",
       "  'name': 'Germán Valencia Castro \\u200b',\n",
       "  'screen_name': 'GermanV_CDemocr',\n",
       "  'location': 'Medellín, Colombia',\n",
       "  'description': 'Ingeniero @UCatolicaCol. Especialista Alta Gerencia @Areandina. Docente\\nFilología e Idiomas @UNALOficial. Miembro @CeDemocratico 💯. Fundador @Change_WorldT',\n",
       "  'url': 'https://t.co/KwNgymTZ27',\n",
       "  'entities': {'url': {'urls': [{'url': 'https://t.co/KwNgymTZ27',\n",
       "      'expanded_url': 'https://www.facebook.com/german.valenciacastrohttps://www.facebook.com/profile.php?id=10005380254630',\n",
       "      'display_url': 'facebook.com/german.valenci…',\n",
       "      'indices': [0, 23]}]},\n",
       "   'description': {'urls': []}},\n",
       "  'protected': False,\n",
       "  'followers_count': 14146,\n",
       "  'friends_count': 14308,\n",
       "  'listed_count': 1,\n",
       "  'created_at': 'Thu Feb 27 11:34:31 +0000 2020',\n",
       "  'favourites_count': 5354,\n",
       "  'utc_offset': None,\n",
       "  'time_zone': None,\n",
       "  'geo_enabled': True,\n",
       "  'verified': False,\n",
       "  'statuses_count': 4890,\n",
       "  'lang': None,\n",
       "  'contributors_enabled': False,\n",
       "  'is_translator': False,\n",
       "  'is_translation_enabled': False,\n",
       "  'profile_background_color': 'F5F8FA',\n",
       "  'profile_background_image_url': None,\n",
       "  'profile_background_image_url_https': None,\n",
       "  'profile_background_tile': False,\n",
       "  'profile_image_url': 'http://pbs.twimg.com/profile_images/1419430057068699649/YutR37mB_normal.jpg',\n",
       "  'profile_image_url_https': 'https://pbs.twimg.com/profile_images/1419430057068699649/YutR37mB_normal.jpg',\n",
       "  'profile_banner_url': 'https://pbs.twimg.com/profile_banners/1232992266379235329/1623639968',\n",
       "  'profile_link_color': '1DA1F2',\n",
       "  'profile_sidebar_border_color': 'C0DEED',\n",
       "  'profile_sidebar_fill_color': 'DDEEF6',\n",
       "  'profile_text_color': '333333',\n",
       "  'profile_use_background_image': True,\n",
       "  'has_extended_profile': True,\n",
       "  'default_profile': True,\n",
       "  'default_profile_image': False,\n",
       "  'following': False,\n",
       "  'follow_request_sent': False,\n",
       "  'notifications': False,\n",
       "  'translator_type': 'none',\n",
       "  'withheld_in_countries': []},\n",
       " 'geo': None,\n",
       " 'coordinates': None,\n",
       " 'place': None,\n",
       " 'contributors': None,\n",
       " 'is_quote_status': False,\n",
       " 'retweet_count': 2,\n",
       " 'favorite_count': 5,\n",
       " 'favorited': False,\n",
       " 'retweeted': False,\n",
       " 'lang': 'es'}"
      ]
     },
     "execution_count": 24,
     "metadata": {},
     "output_type": "execute_result"
    }
   ],
   "source": [
    "tweets_json[1][\"retweeted_status\"]"
   ]
  },
  {
   "cell_type": "code",
   "execution_count": 16,
   "metadata": {},
   "outputs": [
    {
     "data": {
      "text/plain": [
       "'Mon Sep 06 01:05:32 +0000 2021'"
      ]
     },
     "execution_count": 16,
     "metadata": {},
     "output_type": "execute_result"
    }
   ],
   "source": [
    "tweets_json[1][\"retweeted_status\"][\"created_at\"]"
   ]
  },
  {
   "cell_type": "code",
   "execution_count": 17,
   "metadata": {},
   "outputs": [],
   "source": [
    "tweets=[]\n",
    "for tweet in tweepy.Cursor(api3.search,q=\"@AlvaroUribeVel\",count=100,\n",
    "                           lang=\"es\",tweet_mode='extended',since=\"2021-09-05\").items(1000):\n",
    "    \n",
    "    tweets.append(tweet)"
   ]
  },
  {
   "cell_type": "markdown",
   "metadata": {},
   "source": [
    "### Pasos para descargar información de un usuario\n",
    "#### Casos de uso: ¿Cómo habla un usuario particular?\n",
    "\n",
    "1. Obtener el screen name o user_id del usuario\n",
    "2. Usar el método [user_timeline]"
   ]
  },
  {
   "cell_type": "code",
   "execution_count": 25,
   "metadata": {},
   "outputs": [],
   "source": [
    "tweets_user=[]\n",
    "screen_name=\"PalomaValenciaL\"\n",
    "#user_id=\"\"\n",
    "try:\n",
    "    tweets_user=api3.user_timeline(id=screen_name,tweet_mode='extended', count=200)\n",
    "except Exception as e:\n",
    "    print(e, id)\n",
    "\n"
   ]
  },
  {
   "cell_type": "code",
   "execution_count": 26,
   "metadata": {},
   "outputs": [
    {
     "data": {
      "text/plain": [
       "200"
      ]
     },
     "execution_count": 26,
     "metadata": {},
     "output_type": "execute_result"
    }
   ],
   "source": [
    "len(tweets_user)"
   ]
  },
  {
   "cell_type": "code",
   "execution_count": 27,
   "metadata": {},
   "outputs": [],
   "source": [
    "tweets_user=[tweets_user[i]._json for i in range(0,len(tweets_user))]"
   ]
  },
  {
   "cell_type": "code",
   "execution_count": 31,
   "metadata": {},
   "outputs": [
    {
     "data": {
      "text/plain": [
       "{'created_at': 'Sun Sep 05 18:43:41 +0000 2021',\n",
       " 'id': 1434588059601866759,\n",
       " 'id_str': '1434588059601866759',\n",
       " 'full_text': 'RT @PalomaValenciaL: El debate de Odebrecht\\n\\nMi columna \\n\\nhttps://t.co/156muh5YYy https://t.co/iFWQhBFx7U',\n",
       " 'truncated': False,\n",
       " 'display_text_range': [0, 105],\n",
       " 'entities': {'hashtags': [],\n",
       "  'symbols': [],\n",
       "  'user_mentions': [{'screen_name': 'PalomaValenciaL',\n",
       "    'name': 'Paloma Valencia L',\n",
       "    'id': 149281495,\n",
       "    'id_str': '149281495',\n",
       "    'indices': [3, 19]}],\n",
       "  'urls': [{'url': 'https://t.co/156muh5YYy',\n",
       "    'expanded_url': 'https://www.google.com.co/amp/s/www.kienyke.com/kien-opina/el-debate-de-odebrecht-por-paloma-valencia%3famp',\n",
       "    'display_url': 'google.com.co/amp/s/www.kien…',\n",
       "    'indices': [58, 81]}],\n",
       "  'media': [{'id': 1434547738138583042,\n",
       "    'id_str': '1434547738138583042',\n",
       "    'indices': [82, 105],\n",
       "    'media_url': 'http://pbs.twimg.com/media/E-iJkTkXIAIzpRY.jpg',\n",
       "    'media_url_https': 'https://pbs.twimg.com/media/E-iJkTkXIAIzpRY.jpg',\n",
       "    'url': 'https://t.co/iFWQhBFx7U',\n",
       "    'display_url': 'pic.twitter.com/iFWQhBFx7U',\n",
       "    'expanded_url': 'https://twitter.com/PalomaValenciaL/status/1434547751606525958/photo/1',\n",
       "    'type': 'photo',\n",
       "    'sizes': {'thumb': {'w': 150, 'h': 150, 'resize': 'crop'},\n",
       "     'small': {'w': 382, 'h': 680, 'resize': 'fit'},\n",
       "     'medium': {'w': 674, 'h': 1200, 'resize': 'fit'},\n",
       "     'large': {'w': 1150, 'h': 2048, 'resize': 'fit'}},\n",
       "    'source_status_id': 1434547751606525958,\n",
       "    'source_status_id_str': '1434547751606525958',\n",
       "    'source_user_id': 149281495,\n",
       "    'source_user_id_str': '149281495'}]},\n",
       " 'extended_entities': {'media': [{'id': 1434547738138583042,\n",
       "    'id_str': '1434547738138583042',\n",
       "    'indices': [82, 105],\n",
       "    'media_url': 'http://pbs.twimg.com/media/E-iJkTkXIAIzpRY.jpg',\n",
       "    'media_url_https': 'https://pbs.twimg.com/media/E-iJkTkXIAIzpRY.jpg',\n",
       "    'url': 'https://t.co/iFWQhBFx7U',\n",
       "    'display_url': 'pic.twitter.com/iFWQhBFx7U',\n",
       "    'expanded_url': 'https://twitter.com/PalomaValenciaL/status/1434547751606525958/photo/1',\n",
       "    'type': 'photo',\n",
       "    'sizes': {'thumb': {'w': 150, 'h': 150, 'resize': 'crop'},\n",
       "     'small': {'w': 382, 'h': 680, 'resize': 'fit'},\n",
       "     'medium': {'w': 674, 'h': 1200, 'resize': 'fit'},\n",
       "     'large': {'w': 1150, 'h': 2048, 'resize': 'fit'}},\n",
       "    'source_status_id': 1434547751606525958,\n",
       "    'source_status_id_str': '1434547751606525958',\n",
       "    'source_user_id': 149281495,\n",
       "    'source_user_id_str': '149281495'}]},\n",
       " 'source': '<a href=\"http://twitter.com/download/iphone\" rel=\"nofollow\">Twitter for iPhone</a>',\n",
       " 'in_reply_to_status_id': None,\n",
       " 'in_reply_to_status_id_str': None,\n",
       " 'in_reply_to_user_id': None,\n",
       " 'in_reply_to_user_id_str': None,\n",
       " 'in_reply_to_screen_name': None,\n",
       " 'user': {'id': 149281495,\n",
       "  'id_str': '149281495',\n",
       "  'name': 'Paloma Valencia L',\n",
       "  'screen_name': 'PalomaValenciaL',\n",
       "  'location': '',\n",
       "  'description': 'Mamá de Amapola. Senadora de Colombia por el CD |  Me esforzaré por siempre hacer del otro su mejor versión. IG: @palomasenadora Fb: @PalomaValencial',\n",
       "  'url': None,\n",
       "  'entities': {'description': {'urls': []}},\n",
       "  'protected': False,\n",
       "  'followers_count': 399386,\n",
       "  'friends_count': 916,\n",
       "  'listed_count': 636,\n",
       "  'created_at': 'Fri May 28 22:14:20 +0000 2010',\n",
       "  'favourites_count': 1046,\n",
       "  'utc_offset': None,\n",
       "  'time_zone': None,\n",
       "  'geo_enabled': False,\n",
       "  'verified': True,\n",
       "  'statuses_count': 36103,\n",
       "  'lang': None,\n",
       "  'contributors_enabled': False,\n",
       "  'is_translator': False,\n",
       "  'is_translation_enabled': False,\n",
       "  'profile_background_color': '4D6B9E',\n",
       "  'profile_background_image_url': 'http://abs.twimg.com/images/themes/theme18/bg.gif',\n",
       "  'profile_background_image_url_https': 'https://abs.twimg.com/images/themes/theme18/bg.gif',\n",
       "  'profile_background_tile': False,\n",
       "  'profile_image_url': 'http://pbs.twimg.com/profile_images/1417562125053186049/-l0QoBi7_normal.jpg',\n",
       "  'profile_image_url_https': 'https://pbs.twimg.com/profile_images/1417562125053186049/-l0QoBi7_normal.jpg',\n",
       "  'profile_banner_url': 'https://pbs.twimg.com/profile_banners/149281495/1626697624',\n",
       "  'profile_link_color': '038543',\n",
       "  'profile_sidebar_border_color': 'EEEEEE',\n",
       "  'profile_sidebar_fill_color': 'F6F6F6',\n",
       "  'profile_text_color': '333333',\n",
       "  'profile_use_background_image': True,\n",
       "  'has_extended_profile': True,\n",
       "  'default_profile': False,\n",
       "  'default_profile_image': False,\n",
       "  'following': False,\n",
       "  'follow_request_sent': False,\n",
       "  'notifications': False,\n",
       "  'translator_type': 'none',\n",
       "  'withheld_in_countries': []},\n",
       " 'geo': None,\n",
       " 'coordinates': None,\n",
       " 'place': None,\n",
       " 'contributors': None,\n",
       " 'retweeted_status': {'created_at': 'Sun Sep 05 16:03:31 +0000 2021',\n",
       "  'id': 1434547751606525958,\n",
       "  'id_str': '1434547751606525958',\n",
       "  'full_text': 'El debate de Odebrecht\\n\\nMi columna \\n\\nhttps://t.co/156muh5YYy https://t.co/iFWQhBFx7U',\n",
       "  'truncated': False,\n",
       "  'display_text_range': [0, 60],\n",
       "  'entities': {'hashtags': [],\n",
       "   'symbols': [],\n",
       "   'user_mentions': [],\n",
       "   'urls': [{'url': 'https://t.co/156muh5YYy',\n",
       "     'expanded_url': 'https://www.google.com.co/amp/s/www.kienyke.com/kien-opina/el-debate-de-odebrecht-por-paloma-valencia%3famp',\n",
       "     'display_url': 'google.com.co/amp/s/www.kien…',\n",
       "     'indices': [37, 60]}],\n",
       "   'media': [{'id': 1434547738138583042,\n",
       "     'id_str': '1434547738138583042',\n",
       "     'indices': [61, 84],\n",
       "     'media_url': 'http://pbs.twimg.com/media/E-iJkTkXIAIzpRY.jpg',\n",
       "     'media_url_https': 'https://pbs.twimg.com/media/E-iJkTkXIAIzpRY.jpg',\n",
       "     'url': 'https://t.co/iFWQhBFx7U',\n",
       "     'display_url': 'pic.twitter.com/iFWQhBFx7U',\n",
       "     'expanded_url': 'https://twitter.com/PalomaValenciaL/status/1434547751606525958/photo/1',\n",
       "     'type': 'photo',\n",
       "     'sizes': {'thumb': {'w': 150, 'h': 150, 'resize': 'crop'},\n",
       "      'small': {'w': 382, 'h': 680, 'resize': 'fit'},\n",
       "      'medium': {'w': 674, 'h': 1200, 'resize': 'fit'},\n",
       "      'large': {'w': 1150, 'h': 2048, 'resize': 'fit'}}}]},\n",
       "  'extended_entities': {'media': [{'id': 1434547738138583042,\n",
       "     'id_str': '1434547738138583042',\n",
       "     'indices': [61, 84],\n",
       "     'media_url': 'http://pbs.twimg.com/media/E-iJkTkXIAIzpRY.jpg',\n",
       "     'media_url_https': 'https://pbs.twimg.com/media/E-iJkTkXIAIzpRY.jpg',\n",
       "     'url': 'https://t.co/iFWQhBFx7U',\n",
       "     'display_url': 'pic.twitter.com/iFWQhBFx7U',\n",
       "     'expanded_url': 'https://twitter.com/PalomaValenciaL/status/1434547751606525958/photo/1',\n",
       "     'type': 'photo',\n",
       "     'sizes': {'thumb': {'w': 150, 'h': 150, 'resize': 'crop'},\n",
       "      'small': {'w': 382, 'h': 680, 'resize': 'fit'},\n",
       "      'medium': {'w': 674, 'h': 1200, 'resize': 'fit'},\n",
       "      'large': {'w': 1150, 'h': 2048, 'resize': 'fit'}}}]},\n",
       "  'source': '<a href=\"http://twitter.com/download/iphone\" rel=\"nofollow\">Twitter for iPhone</a>',\n",
       "  'in_reply_to_status_id': None,\n",
       "  'in_reply_to_status_id_str': None,\n",
       "  'in_reply_to_user_id': None,\n",
       "  'in_reply_to_user_id_str': None,\n",
       "  'in_reply_to_screen_name': None,\n",
       "  'user': {'id': 149281495,\n",
       "   'id_str': '149281495',\n",
       "   'name': 'Paloma Valencia L',\n",
       "   'screen_name': 'PalomaValenciaL',\n",
       "   'location': '',\n",
       "   'description': 'Mamá de Amapola. Senadora de Colombia por el CD |  Me esforzaré por siempre hacer del otro su mejor versión. IG: @palomasenadora Fb: @PalomaValencial',\n",
       "   'url': None,\n",
       "   'entities': {'description': {'urls': []}},\n",
       "   'protected': False,\n",
       "   'followers_count': 399386,\n",
       "   'friends_count': 916,\n",
       "   'listed_count': 636,\n",
       "   'created_at': 'Fri May 28 22:14:20 +0000 2010',\n",
       "   'favourites_count': 1046,\n",
       "   'utc_offset': None,\n",
       "   'time_zone': None,\n",
       "   'geo_enabled': False,\n",
       "   'verified': True,\n",
       "   'statuses_count': 36103,\n",
       "   'lang': None,\n",
       "   'contributors_enabled': False,\n",
       "   'is_translator': False,\n",
       "   'is_translation_enabled': False,\n",
       "   'profile_background_color': '4D6B9E',\n",
       "   'profile_background_image_url': 'http://abs.twimg.com/images/themes/theme18/bg.gif',\n",
       "   'profile_background_image_url_https': 'https://abs.twimg.com/images/themes/theme18/bg.gif',\n",
       "   'profile_background_tile': False,\n",
       "   'profile_image_url': 'http://pbs.twimg.com/profile_images/1417562125053186049/-l0QoBi7_normal.jpg',\n",
       "   'profile_image_url_https': 'https://pbs.twimg.com/profile_images/1417562125053186049/-l0QoBi7_normal.jpg',\n",
       "   'profile_banner_url': 'https://pbs.twimg.com/profile_banners/149281495/1626697624',\n",
       "   'profile_link_color': '038543',\n",
       "   'profile_sidebar_border_color': 'EEEEEE',\n",
       "   'profile_sidebar_fill_color': 'F6F6F6',\n",
       "   'profile_text_color': '333333',\n",
       "   'profile_use_background_image': True,\n",
       "   'has_extended_profile': True,\n",
       "   'default_profile': False,\n",
       "   'default_profile_image': False,\n",
       "   'following': False,\n",
       "   'follow_request_sent': False,\n",
       "   'notifications': False,\n",
       "   'translator_type': 'none',\n",
       "   'withheld_in_countries': []},\n",
       "  'geo': None,\n",
       "  'coordinates': None,\n",
       "  'place': None,\n",
       "  'contributors': None,\n",
       "  'is_quote_status': False,\n",
       "  'retweet_count': 155,\n",
       "  'favorite_count': 221,\n",
       "  'favorited': False,\n",
       "  'retweeted': False,\n",
       "  'possibly_sensitive': False,\n",
       "  'lang': 'es'},\n",
       " 'is_quote_status': False,\n",
       " 'retweet_count': 155,\n",
       " 'favorite_count': 0,\n",
       " 'favorited': False,\n",
       " 'retweeted': False,\n",
       " 'possibly_sensitive': False,\n",
       " 'lang': 'es'}"
      ]
     },
     "execution_count": 31,
     "metadata": {},
     "output_type": "execute_result"
    }
   ],
   "source": [
    "tweets_user[0]"
   ]
  },
  {
   "cell_type": "markdown",
   "metadata": {},
   "source": [
    "### Pasos para descargar amigos de un usuario\n",
    "\n",
    "1. Usar los métodos friends_ids o followers_ids\n",
    "2. Anidarlos dentro del método Cursor para que haga el proceso hasta llegar al final de la lista de amigos"
   ]
  },
  {
   "cell_type": "code",
   "execution_count": 56,
   "metadata": {},
   "outputs": [],
   "source": [
    "usuario= \"@fboteroj\"\n",
    "#usuario=\"@FERVELEZv\"\n",
    "following=[]\n",
    "followers=[]\n",
    "\n",
    "try:\n",
    "    for page in tweepy.Cursor(api3.friends_ids, id= usuario).pages():\n",
    "        following.extend(page)\n",
    "        \n",
    "    for page in tweepy.Cursor(api3.followers_ids, id= usuario).pages():\n",
    "        followers.extend(page)\n",
    "\n",
    "except Exception as e:\n",
    "    print(e)\n",
    "    next\n",
    "\n"
   ]
  },
  {
   "cell_type": "code",
   "execution_count": 58,
   "metadata": {},
   "outputs": [
    {
     "data": {
      "text/plain": [
       "3273"
      ]
     },
     "execution_count": 58,
     "metadata": {},
     "output_type": "execute_result"
    }
   ],
   "source": [
    "len(followers)"
   ]
  },
  {
   "cell_type": "code",
   "execution_count": 59,
   "metadata": {},
   "outputs": [
    {
     "data": {
      "text/plain": [
       "1202355192328544258"
      ]
     },
     "execution_count": 59,
     "metadata": {},
     "output_type": "execute_result"
    }
   ],
   "source": [
    "followers[1]"
   ]
  },
  {
   "cell_type": "markdown",
   "metadata": {},
   "source": [
    "### Pasos para descargar información de un usuario\n",
    "\n",
    "1. Usar los métodos get_user"
   ]
  },
  {
   "cell_type": "code",
   "execution_count": 62,
   "metadata": {},
   "outputs": [],
   "source": [
    "user_info={}\n",
    "try:\n",
    "    user_info[followers[1]]=api3.get_user(id= followers[1])._json\n",
    "except Exception as e:\n",
    "    print(e, id)\n",
    "\n"
   ]
  },
  {
   "cell_type": "code",
   "execution_count": 64,
   "metadata": {},
   "outputs": [
    {
     "data": {
      "text/plain": [
       "{'id': 1202355192328544258,\n",
       " 'id_str': '1202355192328544258',\n",
       " 'name': 'MariaAlejandra',\n",
       " 'screen_name': 'marialejate',\n",
       " 'location': 'Bogotá, D.C., Colombia',\n",
       " 'profile_location': None,\n",
       " 'description': '',\n",
       " 'url': None,\n",
       " 'entities': {'description': {'urls': []}},\n",
       " 'protected': False,\n",
       " 'followers_count': 46,\n",
       " 'friends_count': 626,\n",
       " 'listed_count': 0,\n",
       " 'created_at': 'Wed Dec 04 22:33:25 +0000 2019',\n",
       " 'favourites_count': 1760,\n",
       " 'utc_offset': None,\n",
       " 'time_zone': None,\n",
       " 'geo_enabled': False,\n",
       " 'verified': False,\n",
       " 'statuses_count': 188,\n",
       " 'lang': None,\n",
       " 'status': {'created_at': 'Mon Apr 27 18:05:20 +0000 2020',\n",
       "  'id': 1254834029276336129,\n",
       "  'id_str': '1254834029276336129',\n",
       "  'text': '@DianaUribefm Bella !',\n",
       "  'truncated': False,\n",
       "  'entities': {'hashtags': [],\n",
       "   'symbols': [],\n",
       "   'user_mentions': [{'screen_name': 'DianaUribefm',\n",
       "     'name': 'DianaUribe.fm',\n",
       "     'id': 321094958,\n",
       "     'id_str': '321094958',\n",
       "     'indices': [0, 13]}],\n",
       "   'urls': []},\n",
       "  'source': '<a href=\"http://twitter.com/download/iphone\" rel=\"nofollow\">Twitter for iPhone</a>',\n",
       "  'in_reply_to_status_id': 1254763595470196736,\n",
       "  'in_reply_to_status_id_str': '1254763595470196736',\n",
       "  'in_reply_to_user_id': 321094958,\n",
       "  'in_reply_to_user_id_str': '321094958',\n",
       "  'in_reply_to_screen_name': 'DianaUribefm',\n",
       "  'geo': None,\n",
       "  'coordinates': None,\n",
       "  'place': None,\n",
       "  'contributors': None,\n",
       "  'is_quote_status': False,\n",
       "  'retweet_count': 0,\n",
       "  'favorite_count': 0,\n",
       "  'favorited': False,\n",
       "  'retweeted': False,\n",
       "  'lang': 'it'},\n",
       " 'contributors_enabled': False,\n",
       " 'is_translator': False,\n",
       " 'is_translation_enabled': False,\n",
       " 'profile_background_color': 'F5F8FA',\n",
       " 'profile_background_image_url': None,\n",
       " 'profile_background_image_url_https': None,\n",
       " 'profile_background_tile': False,\n",
       " 'profile_image_url': 'http://pbs.twimg.com/profile_images/1253748927238680576/EMal5JxR_normal.jpg',\n",
       " 'profile_image_url_https': 'https://pbs.twimg.com/profile_images/1253748927238680576/EMal5JxR_normal.jpg',\n",
       " 'profile_banner_url': 'https://pbs.twimg.com/profile_banners/1202355192328544258/1587752083',\n",
       " 'profile_link_color': '1DA1F2',\n",
       " 'profile_sidebar_border_color': 'C0DEED',\n",
       " 'profile_sidebar_fill_color': 'DDEEF6',\n",
       " 'profile_text_color': '333333',\n",
       " 'profile_use_background_image': True,\n",
       " 'has_extended_profile': True,\n",
       " 'default_profile': True,\n",
       " 'default_profile_image': False,\n",
       " 'following': False,\n",
       " 'follow_request_sent': False,\n",
       " 'notifications': False,\n",
       " 'translator_type': 'none'}"
      ]
     },
     "execution_count": 64,
     "metadata": {},
     "output_type": "execute_result"
    }
   ],
   "source": [
    "user_info[followers[1]]"
   ]
  },
  {
   "cell_type": "markdown",
   "metadata": {},
   "source": [
    "### ¿Cómo usar toda esta información?\n",
    "#### Mapa"
   ]
  },
  {
   "cell_type": "code",
   "execution_count": 32,
   "metadata": {},
   "outputs": [],
   "source": [
    "coordinates=[tweets_json[i][\"coordinates\"]for i in range (0, len(tweets_json)) if tweets_json[i][\"coordinates\"]!= None]"
   ]
  },
  {
   "cell_type": "code",
   "execution_count": 33,
   "metadata": {},
   "outputs": [],
   "source": [
    "longitud=[coordinates[i][\"coordinates\"][0] for i in range (0, len(coordinates))]\n",
    "latitud=[coordinates[i][\"coordinates\"][1] for i in range (0, len(coordinates))]"
   ]
  },
  {
   "cell_type": "code",
   "execution_count": 34,
   "metadata": {},
   "outputs": [],
   "source": [
    "import geopandas as gpd\n",
    "from shapely.geometry import Point, Polygon\n",
    "import matplotlib.pyplot as plt"
   ]
  },
  {
   "cell_type": "code",
   "execution_count": 72,
   "metadata": {},
   "outputs": [],
   "source": [
    "geometry = [Point(xy) for xy in zip(longitud, latitud)]"
   ]
  },
  {
   "cell_type": "code",
   "execution_count": 73,
   "metadata": {},
   "outputs": [],
   "source": [
    "geo_df = gpd.GeoDataFrame(\n",
    "geometry = geometry)"
   ]
  },
  {
   "cell_type": "code",
   "execution_count": 74,
   "metadata": {},
   "outputs": [
    {
     "data": {
      "text/html": [
       "<div>\n",
       "<style scoped>\n",
       "    .dataframe tbody tr th:only-of-type {\n",
       "        vertical-align: middle;\n",
       "    }\n",
       "\n",
       "    .dataframe tbody tr th {\n",
       "        vertical-align: top;\n",
       "    }\n",
       "\n",
       "    .dataframe thead th {\n",
       "        text-align: right;\n",
       "    }\n",
       "</style>\n",
       "<table border=\"1\" class=\"dataframe\">\n",
       "  <thead>\n",
       "    <tr style=\"text-align: right;\">\n",
       "      <th></th>\n",
       "      <th>geometry</th>\n",
       "    </tr>\n",
       "  </thead>\n",
       "  <tbody>\n",
       "    <tr>\n",
       "      <td>0</td>\n",
       "      <td>POINT (-74.05962 4.64993)</td>\n",
       "    </tr>\n",
       "  </tbody>\n",
       "</table>\n",
       "</div>"
      ],
      "text/plain": [
       "                    geometry\n",
       "0  POINT (-74.05962 4.64993)"
      ]
     },
     "execution_count": 74,
     "metadata": {},
     "output_type": "execute_result"
    }
   ],
   "source": [
    "geo_df"
   ]
  },
  {
   "cell_type": "code",
   "execution_count": 77,
   "metadata": {},
   "outputs": [
    {
     "data": {
      "image/png": "[encoded data removed]",
      "text/plain": [
       "<Figure size 432x288 with 1 Axes>"
      ]
     },
     "metadata": {
      "needs_background": "light"
     },
     "output_type": "display_data"
    }
   ],
   "source": [
    "world = gpd.read_file(gpd.datasets.get_path('naturalearth_lowres'))\n",
    "\n",
    "ax = world.plot(\n",
    "    color='white', edgecolor='black')\n",
    "\n",
    "# We can now plot our ``GeoDataFrame``.\n",
    "geo_df.plot(ax=ax, color='red')\n",
    "\n",
    "plt.show()"
   ]
  },
  {
   "cell_type": "markdown",
   "metadata": {},
   "source": [
    "#### Timeline\n"
   ]
  },
  {
   "cell_type": "code",
   "execution_count": 106,
   "metadata": {},
   "outputs": [
    {
     "data": {
      "text/html": [
       "\n",
       "<div id=\"altair-viz-4f8f68496bd74fa79cc6440dd0422030\"></div>\n",
       "<script type=\"text/javascript\">\n",
       "  (function(spec, embedOpt){\n",
       "    const outputDiv = document.getElementById(\"altair-viz-4f8f68496bd74fa79cc6440dd0422030\");\n",
       "    const paths = {\n",
       "      \"vega\": \"https://cdn.jsdelivr.net/npm//vega@5?noext\",\n",
       "      \"vega-lib\": \"https://cdn.jsdelivr.net/npm//vega-lib?noext\",\n",
       "      \"vega-lite\": \"https://cdn.jsdelivr.net/npm//vega-lite@4.0.2?noext\",\n",
       "      \"vega-embed\": \"https://cdn.jsdelivr.net/npm//vega-embed@6?noext\",\n",
       "    };\n",
       "\n",
       "    function loadScript(lib) {\n",
       "      return new Promise(function(resolve, reject) {\n",
       "        var s = document.createElement('script');\n",
       "        s.src = paths[lib];\n",
       "        s.async = true;\n",
       "        s.onload = () => resolve(paths[lib]);\n",
       "        s.onerror = () => reject(`Error loading script: ${paths[lib]}`);\n",
       "        document.getElementsByTagName(\"head\")[0].appendChild(s);\n",
       "      });\n",
       "    }\n",
       "\n",
       "    function showError(err) {\n",
       "      outputDiv.innerHTML = `<div class=\"error\" style=\"color:red;\">${err}</div>`;\n",
       "      throw err;\n",
       "    }\n",
       "\n",
       "    function displayChart(vegaEmbed) {\n",
       "      vegaEmbed(outputDiv, spec, embedOpt)\n",
       "        .catch(err => showError(`Javascript Error: ${err.message}<br>This usually means there's a typo in your chart specification. See the javascript console for the full traceback.`));\n",
       "    }\n",
       "\n",
       "    if(typeof define === \"function\" && define.amd) {\n",
       "      requirejs.config({paths});\n",
       "      require([\"vega-embed\"], displayChart, err => showError(`Error loading script: ${err.message}`));\n",
       "    } else if (typeof vegaEmbed === \"function\") {\n",
       "      displayChart(vegaEmbed);\n",
       "    } else {\n",
       "      loadScript(\"vega\")\n",
       "        .then(() => loadScript(\"vega-lite\"))\n",
       "        .then(() => loadScript(\"vega-embed\"))\n",
       "        .catch(showError)\n",
       "        .then(() => displayChart(vegaEmbed));\n",
       "    }\n",
       "  })({\"config\": {\"view\": {\"continuousWidth\": 400, \"continuousHeight\": 300}}, \"data\": {\"name\": \"data-992d0174b0231bfdf0dc98a931d72b7e\"}, \"mark\": {\"type\": \"line\", \"point\": true}, \"encoding\": {\"x\": {\"type\": \"quantitative\", \"field\": \"just_time\"}, \"y\": {\"type\": \"quantitative\", \"field\": \"count\"}}, \"title\": \"L\\u00ednea de tiempo\", \"$schema\": \"https://vega.github.io/schema/vega-lite/v4.0.2.json\", \"datasets\": {\"data-992d0174b0231bfdf0dc98a931d72b7e\": [{\"just_time\": 5, \"count\": 143}, {\"just_time\": 6, \"count\": 144}, {\"just_time\": 7, \"count\": 254}, {\"just_time\": 8, \"count\": 190}, {\"just_time\": 9, \"count\": 575}, {\"just_time\": 10, \"count\": 659}, {\"just_time\": 11, \"count\": 1269}, {\"just_time\": 12, \"count\": 1390}, {\"just_time\": 13, \"count\": 1061}]}}, {\"mode\": \"vega-lite\"});\n",
       "</script>"
      ],
      "text/plain": [
       "alt.Chart(...)"
      ]
     },
     "execution_count": 106,
     "metadata": {},
     "output_type": "execute_result"
    }
   ],
   "source": [
    "import pandas as pd\n",
    "from datetime import datetime, timedelta\n",
    "import altair as alt\n",
    "#timeline.\n",
    "creation_dates=[tweet[\"created_at\"] for tweet in tweets_json]\n",
    "\n",
    "df = pd.DataFrame({'dates':creation_dates})\n",
    "df.dates = df.dates.astype(\"datetime64\")+ timedelta(hours=-5)\n",
    "df['just_time'] = df['dates'].dt.hour\n",
    "\n",
    "counts= df.groupby([\"just_time\"]).size()\n",
    "counts=counts.to_frame(name = 'count').reset_index()\n",
    "counts.just_time=pd.to_datetime(counts.just_time,format='%H').dt.hour\n",
    "\n",
    "counts.sort_values(by=['just_time'])\n",
    "\n",
    "alt.Chart(counts).mark_line(point=True).encode(\n",
    "    x='just_time',\n",
    "    y='count'\n",
    ").properties(\n",
    "    title='Línea de tiempo'\n",
    ")"
   ]
  },
  {
   "cell_type": "code",
   "execution_count": 110,
   "metadata": {},
   "outputs": [
    {
     "data": {
      "text/html": [
       "<div>\n",
       "<style scoped>\n",
       "    .dataframe tbody tr th:only-of-type {\n",
       "        vertical-align: middle;\n",
       "    }\n",
       "\n",
       "    .dataframe tbody tr th {\n",
       "        vertical-align: top;\n",
       "    }\n",
       "\n",
       "    .dataframe thead th {\n",
       "        text-align: right;\n",
       "    }\n",
       "</style>\n",
       "<table border=\"1\" class=\"dataframe\">\n",
       "  <thead>\n",
       "    <tr style=\"text-align: right;\">\n",
       "      <th></th>\n",
       "      <th>just_time</th>\n",
       "      <th>count</th>\n",
       "    </tr>\n",
       "  </thead>\n",
       "  <tbody>\n",
       "    <tr>\n",
       "      <td>0</td>\n",
       "      <td>5</td>\n",
       "      <td>143</td>\n",
       "    </tr>\n",
       "    <tr>\n",
       "      <td>1</td>\n",
       "      <td>6</td>\n",
       "      <td>144</td>\n",
       "    </tr>\n",
       "    <tr>\n",
       "      <td>2</td>\n",
       "      <td>7</td>\n",
       "      <td>254</td>\n",
       "    </tr>\n",
       "    <tr>\n",
       "      <td>3</td>\n",
       "      <td>8</td>\n",
       "      <td>190</td>\n",
       "    </tr>\n",
       "    <tr>\n",
       "      <td>4</td>\n",
       "      <td>9</td>\n",
       "      <td>575</td>\n",
       "    </tr>\n",
       "    <tr>\n",
       "      <td>5</td>\n",
       "      <td>10</td>\n",
       "      <td>659</td>\n",
       "    </tr>\n",
       "    <tr>\n",
       "      <td>6</td>\n",
       "      <td>11</td>\n",
       "      <td>1269</td>\n",
       "    </tr>\n",
       "    <tr>\n",
       "      <td>7</td>\n",
       "      <td>12</td>\n",
       "      <td>1390</td>\n",
       "    </tr>\n",
       "    <tr>\n",
       "      <td>8</td>\n",
       "      <td>13</td>\n",
       "      <td>1061</td>\n",
       "    </tr>\n",
       "  </tbody>\n",
       "</table>\n",
       "</div>"
      ],
      "text/plain": [
       "   just_time  count\n",
       "0          5    143\n",
       "1          6    144\n",
       "2          7    254\n",
       "3          8    190\n",
       "4          9    575\n",
       "5         10    659\n",
       "6         11   1269\n",
       "7         12   1390\n",
       "8         13   1061"
      ]
     },
     "execution_count": 110,
     "metadata": {},
     "output_type": "execute_result"
    }
   ],
   "source": [
    "counts"
   ]
  },
  {
   "cell_type": "markdown",
   "metadata": {},
   "source": [
    "### Cómo guardar la información extraída"
   ]
  },
  {
   "cell_type": "code",
   "execution_count": 108,
   "metadata": {},
   "outputs": [],
   "source": [
    "import pickle\n",
    "f = open(\"./tweets_clase10.pkl\",\"wb\")\n",
    "pickle.dump(tweets_json,f)\n",
    "f.close()"
   ]
  },
  {
   "cell_type": "code",
   "execution_count": 109,
   "metadata": {},
   "outputs": [],
   "source": [
    "tweets_leidos=pickle.load(open(\"./tweets_clase10.pkl\", \"rb\"))"
   ]
  },
  {
   "cell_type": "markdown",
   "metadata": {},
   "source": [
    "### Challenge: \n",
    "1. Descargar todos los seguidores y seguidos de dos usuarios de su interés (Idea: Petro y Uribe).\n",
    "2. Descargar los últimos 20 tuits de los primeros 20 seguidores y seguidos extraídos en el punto anterior (hacerlo con un for y almacenando la información en un diccionario que tenga el Id de los usuarios como llave).\n",
    "3. Crear dos nubes de palabras de manera que se pueda identificar las palabras más usadas por los seguidores y seguidos de los dos usuarios iniciales.\n"
   ]
  }
 ],
 "metadata": {
  "kernelspec": {
   "display_name": "Python 3",
   "language": "python",
   "name": "python3"
  },
  "language_info": {
   "codemirror_mode": {
    "name": "ipython",
    "version": 3
   },
   "file_extension": ".py",
   "mimetype": "text/x-python",
   "name": "python",
   "nbconvert_exporter": "python",
   "pygments_lexer": "ipython3",
   "version": "3.7.4"
  }
 },
 "nbformat": 4,
 "nbformat_minor": 2
}
